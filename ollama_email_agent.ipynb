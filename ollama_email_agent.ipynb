{
 "cells": [
  {
   "cell_type": "markdown",
   "metadata": {},
   "source": [
    "### Email (Gmail Agent)"
   ]
  },
  {
   "cell_type": "code",
   "execution_count": 1,
   "metadata": {},
   "outputs": [],
   "source": [
    "import os\n",
    "import base64\n",
    "import quopri\n",
    "import json\n",
    "from typing_extensions import TypedDict\n",
    "from google.oauth2.credentials import Credentials\n",
    "from google_auth_oauthlib.flow import InstalledAppFlow\n",
    "from googleapiclient.discovery import build\n",
    "from email.mime.multipart import MIMEMultipart\n",
    "from email.mime.text import MIMEText\n",
    "from langchain_ollama import ChatOllama\n",
    "from langchain_core.prompts import ChatPromptTemplate\n",
    "from langchain_core.output_parsers import StrOutputParser\n",
    "from pydantic import BaseModel, Field\n",
    "from langgraph.graph import StateGraph, END\n",
    "from langgraph.checkpoint.memory import MemorySaver"
   ]
  },
  {
   "cell_type": "code",
   "execution_count": 2,
   "metadata": {},
   "outputs": [],
   "source": [
    "SCOPES = [\n",
    "    \"https://www.googleapis.com/auth/gmail.modify\",\n",
    "    \"https://www.googleapis.com/auth/gmail.send\",\n",
    "]\n",
    "\n",
    "\n",
    "def get_credentials():\n",
    "    creds = None\n",
    "    token_path = \"token.json\"\n",
    "    if os.path.exists(token_path):\n",
    "        with open(token_path, \"r\") as token:\n",
    "            try:\n",
    "                creds_info = json.load(token)\n",
    "                creds = Credentials.from_authorized_user_info(creds_info, SCOPES)\n",
    "            except json.JSONDecodeError:\n",
    "                creds = None\n",
    "    if creds and creds.valid and creds.has_scopes(SCOPES):\n",
    "        return creds\n",
    "    else:\n",
    "        if os.path.exists(token_path):\n",
    "            os.remove(token_path)\n",
    "        flow = InstalledAppFlow.from_client_secrets_file(\"credentials.json\", SCOPES)\n",
    "        creds = flow.run_local_server(port=0)\n",
    "        with open(token_path, \"w\") as token:\n",
    "            token.write(creds.to_json())\n",
    "        return creds\n",
    "\n",
    "creds = get_credentials()\n",
    "service = build(\"gmail\", \"v1\", credentials=creds)\n"
   ]
  },
  {
   "cell_type": "code",
   "execution_count": 3,
   "metadata": {},
   "outputs": [],
   "source": [
    "def send_email(service, to, subject, message_text, user_id=\"me\"):\n",
    "    message = MIMEMultipart()\n",
    "    message[\"to\"] = to\n",
    "    message[\"subject\"] = subject\n",
    "    message.attach(MIMEText(message_text, \"plain\"))\n",
    "    raw = base64.urlsafe_b64encode(message.as_bytes()).decode()\n",
    "    message_body = {\"raw\": raw}\n",
    "    sent_message = (\n",
    "        service.users().messages().send(userId=user_id, body=message_body).execute()\n",
    "    )\n",
    "    print(f\"Email sent: ID {sent_message['id']}\")\n"
   ]
  },
  {
   "cell_type": "code",
   "execution_count": 4,
   "metadata": {},
   "outputs": [],
   "source": [
    "def get_email_body(payload):\n",
    "    def decode_part(part):\n",
    "        body = part.get('body', {}).get('data', '')\n",
    "        if body:\n",
    "            data = base64.urlsafe_b64decode(body.encode('UTF-8'))\n",
    "            if part.get('mimeType') == 'text/plain':\n",
    "                return data.decode('UTF-8')\n",
    "            elif part.get('mimeType') == 'text/html':\n",
    "                return quopri.decodestring(data).decode('UTF-8')\n",
    "        elif 'parts' in part:\n",
    "            return ''.join([decode_part(p) for p in part['parts']])\n",
    "        return ''\n",
    "    return decode_part(payload)"
   ]
  },
  {
   "cell_type": "code",
   "execution_count": 5,
   "metadata": {},
   "outputs": [],
   "source": [
    "def get_or_create_label(service, label_name):\n",
    "    labels = service.users().labels().list(userId='me').execute().get('labels', [])\n",
    "    label = next((label for label in labels if label['name'] == label_name), None)\n",
    "    if label:\n",
    "        return label['id']\n",
    "    else:\n",
    "        label_body = {\n",
    "            'name': label_name,\n",
    "            'labellistVisibility': 'labelShow',\n",
    "            'messagelistVisibility': 'show',\n",
    "            'type': 'user'\n",
    "        }\n",
    "        label = service.users().labels().create(userId='me', body=label_body).execute()\n",
    "        return label['id']"
   ]
  },
  {
   "cell_type": "markdown",
   "metadata": {},
   "source": [
    "### Create Agent"
   ]
  },
  {
   "cell_type": "code",
   "execution_count": 6,
   "metadata": {},
   "outputs": [],
   "source": [
    "class AgentState(TypedDict):\n",
    "    initialized: bool\n",
    "    new_email: dict\n",
    "    email_classification: str\n",
    "    llm_output: str\n",
    "    processed_email_ids: list[str]"
   ]
  },
  {
   "cell_type": "code",
   "execution_count": 7,
   "metadata": {},
   "outputs": [],
   "source": [
    "def check_for_new_emails(state: AgentState):\n",
    "    print(\"State in 'check_for_new_emails':\", state)\n",
    "    if not state.get('initialized', False):\n",
    "        print(\"Initializing state for the first time...\")\n",
    "        state['initialized'] = True\n",
    "        results = service.users().messages().list(userId='me', labelIds=['INBOX'], maxResults=10).execute()\n",
    "        messages = results.get('messages', [])\n",
    "        state['processed_email_ids'] = [msg['id'] for msg in messages]\n",
    "        state['new_email'] = None\n",
    "        print(\"Initial emails marked as processed:\", state['processed_email_ids'])\n",
    "        return state\n",
    "    results = service.users().messages().list(userId='me', labelIds=['INBOX'], maxResults=10).execute()\n",
    "    messages = results.get('messages', [])\n",
    "    processed_ids = set(state.get('processed_email_ids', []))\n",
    "    emails_to_process = [msg for msg in messages if msg['id'] not in processed_ids]\n",
    "    if emails_to_process:\n",
    "        email_id = emails_to_process[0]['id']\n",
    "        email = service.users().messages().get(userId='me', id=email_id, format='full').execute()\n",
    "        state['new_email'] = email\n",
    "    else:\n",
    "        state['new_email'] = None\n",
    "    print(\"Updated state in 'check_for_new_emails':\", state)\n",
    "    return state\n"
   ]
  },
  {
   "cell_type": "code",
   "execution_count": 8,
   "metadata": {},
   "outputs": [],
   "source": [
    "class GradeEmail(BaseModel):\n",
    "    score: str = Field(description=\"Is the email normal? If yes -> 'Yes', if not -> 'No'\")\n",
    "\n",
    "def classify_email(state: AgentState):\n",
    "    email = state.get('new_email')\n",
    "    if not email:\n",
    "        state['email_classification'] = 'No new email'\n",
    "        return state\n",
    "    payload = email.get('payload', {})\n",
    "    headers = payload.get('headers', [])\n",
    "    subject = next((header['value'] for header in headers if header['name'] == 'Subject'), '')\n",
    "    sender = next((header['value'] for header in headers if header['name'] == 'From'), '')\n",
    "    body = get_email_body(payload)\n",
    "    email_content = f\"From: {sender}\\nSubject: {subject}\\n\\n{body}\"\n",
    "    system_prompt = \"\"\"You are an assistant that classifies emails. If the email sounds like it comes from a real person, classify it as 'Yes', otherwise as 'No'.\n",
    "Yes - e.g., an email from friends or colleagues.\n",
    "No - e.g., a mail confirming a registration or other automatically generated mails.\"\"\"\n",
    "    grade_prompt = ChatPromptTemplate.from_messages(\n",
    "        [\n",
    "            (\"system\", system_prompt),\n",
    "            (\"human\", \"Email content:\\n\\n{email_content}\\n\\nIs this a normal email? 'Yes' or 'No'?\"),\n",
    "        ]\n",
    "    )\n",
    "    llm = ChatOllama(model=\"llama3.2\")\n",
    "    structured_llm = llm.with_structured_output(GradeEmail)\n",
    "    classifier = grade_prompt | structured_llm\n",
    "    result = classifier.invoke({\"email_content\": email_content})\n",
    "    state['email_classification'] = result.score\n",
    "    print(\"Updated state in 'classify_email':\", state)\n",
    "    return state\n"
   ]
  },
  {
   "cell_type": "code",
   "execution_count": 9,
   "metadata": {},
   "outputs": [],
   "source": [
    "def new_email_router(state: AgentState):\n",
    "    if not state.get('initialized', False):\n",
    "        return \"__end__\"\n",
    "    elif state.get('new_email'):\n",
    "        return 'classify_email'\n",
    "    else:\n",
    "        return \"__end__\"\n"
   ]
  },
  {
   "cell_type": "code",
   "execution_count": 10,
   "metadata": {},
   "outputs": [],
   "source": [
    "def classification_router(state: AgentState):\n",
    "    classification = state.get('email_classification', '').lower()\n",
    "    if classification == 'yes':\n",
    "        return 'generate_response'\n",
    "    elif classification == 'no':\n",
    "        return 'flag_email'\n",
    "    else:\n",
    "        raise ValueError(f\"Unexpected classification value: {classification}\")\n"
   ]
  },
  {
   "cell_type": "code",
   "execution_count": 11,
   "metadata": {},
   "outputs": [],
   "source": [
    "def generate_response(state: AgentState):\n",
    "    email = state.get('new_email')\n",
    "    payload = email.get('payload', {})\n",
    "    headers = payload.get('headers', [])\n",
    "    subject = next((header['value'] for header in headers if header['name'] == 'Subject'), '')\n",
    "    sender = next((header['value'] for header in headers if header['name'] == 'From'), '')\n",
    "    body = get_email_body(payload)\n",
    "    email_content = f\"From: {sender}\\nSubject: {subject}\\n\\n{body}\"\n",
    "    system_prompt = \"\"\"You are an assistant that generates email replies. Respond politely in English. Just write the email how you would response as if you were me. Like 'Dear Mr. x, thanks for your email...'. Only provide the text, no intro like 'Here is the polite reply:' or any other introduction!\"\"\"\n",
    "    prompt = ChatPromptTemplate.from_messages(\n",
    "        [\n",
    "            (\"system\", system_prompt),\n",
    "            (\"human\", \"Email content:\\n\\n{email_content}\\n\\nWrite a polite reply.\"),\n",
    "        ]\n",
    "    )\n",
    "    llm = ChatOllama(model=\"llama3.2\")\n",
    "    chain = prompt | llm | StrOutputParser()\n",
    "    response = chain.invoke({\"email_content\": email_content})\n",
    "    state['llm_output'] = response\n",
    "    print(\"Updated state in 'generate_response':\", state)\n",
    "    return state\n"
   ]
  },
  {
   "cell_type": "code",
   "execution_count": 12,
   "metadata": {},
   "outputs": [],
   "source": [
    "def send_email_response(state: AgentState):\n",
    "    email = state.get('new_email')\n",
    "    if not email:\n",
    "        print(\"No new email to send a response to.\")\n",
    "        return state\n",
    "    payload = email.get('payload', {})\n",
    "    headers = payload.get('headers', [])\n",
    "    sender = next((header['value'] for header in headers if header['name'] == 'From'), '')\n",
    "    subject = next((header['value'] for header in headers if header['name'] == 'Subject'), 'No Subject')\n",
    "    message_text = state.get('llm_output', '')\n",
    "    send_email(service, sender, \"Re: \" + subject, message_text)\n",
    "    print(f\"Email sent in response to: {subject}, and state updated.\")\n",
    "    return state"
   ]
  },
  {
   "cell_type": "code",
   "execution_count": 13,
   "metadata": {},
   "outputs": [],
   "source": [
    "def flag_email(state: AgentState):\n",
    "    email = state.get('new_email')\n",
    "    if not email:\n",
    "        print(\"No email to flag.\")\n",
    "        return state\n",
    "    email_id = email['id']\n",
    "    classification = state.get('email_classification', '').lower()\n",
    "    if classification == 'no':\n",
    "        label_name = 'FLAGGED_NO'\n",
    "    elif classification == 'yes':\n",
    "        label_name = 'FLAGGED_YES'\n",
    "    else:\n",
    "        raise ValueError(f\"Unexpected classification value: {classification}\")\n",
    "    label_id = get_or_create_label(service, label_name)\n",
    "    service.users().messages().modify(\n",
    "        userId='me',\n",
    "        id=email_id,\n",
    "        body={\n",
    "            'addLabelIds': [label_id],\n",
    "            'removeLabelIds': []\n",
    "        }\n",
    "    ).execute()\n",
    "    service.users().messages().modify(\n",
    "        userId='me',\n",
    "        id=email_id,\n",
    "        body={\n",
    "            'removeLabelIds': ['UNREAD']\n",
    "        }\n",
    "    ).execute()\n",
    "    state['new_email'] = None\n",
    "    if 'processed_email_ids' not in state:\n",
    "        state['processed_email_ids'] = []\n",
    "    state['processed_email_ids'].append(email_id)\n",
    "    print(f\"Email flagged: ID {email_id}, and state updated.\")\n",
    "    return state"
   ]
  },
  {
   "cell_type": "code",
   "execution_count": 14,
   "metadata": {},
   "outputs": [],
   "source": [
    "workflow = StateGraph(AgentState)\n",
    "workflow.add_node('check_emails', check_for_new_emails)\n",
    "workflow.add_node('classify_email', classify_email)\n",
    "workflow.add_node('generate_response', generate_response)\n",
    "workflow.add_node('send_response', send_email_response)\n",
    "workflow.add_node('flag_email', flag_email)\n",
    "workflow.add_conditional_edges('check_emails', new_email_router, {\n",
    "    'classify_email': 'classify_email',\n",
    "    '__end__': END\n",
    "})\n",
    "workflow.add_conditional_edges('classify_email', classification_router, {\n",
    "    'generate_response': 'generate_response',\n",
    "    'flag_email': 'flag_email'\n",
    "})\n",
    "workflow.add_edge('generate_response', 'send_response')\n",
    "workflow.add_edge('send_response', 'flag_email')\n",
    "workflow.add_edge('flag_email', END)\n",
    "workflow.set_entry_point('check_emails')\n",
    "memory = MemorySaver()\n",
    "app = workflow.compile(checkpointer=memory)\n"
   ]
  },
  {
   "cell_type": "code",
   "execution_count": 15,
   "metadata": {},
   "outputs": [],
   "source": [
    "config = {\"configurable\": {\"thread_id\": \"1\"}}"
   ]
  },
  {
   "cell_type": "code",
   "execution_count": null,
   "metadata": {},
   "outputs": [],
   "source": [
    "from IPython.display import Image, display\n",
    "\n",
    "display(Image(app.get_graph().draw_mermaid_png()))"
   ]
  },
  {
   "cell_type": "code",
   "execution_count": null,
   "metadata": {},
   "outputs": [],
   "source": [
    "app.invoke({\"initialized\": False}, config=config)"
   ]
  },
  {
   "cell_type": "code",
   "execution_count": null,
   "metadata": {},
   "outputs": [],
   "source": [
    "app.invoke({\"initialized\": True}, config=config)"
   ]
  },
  {
   "cell_type": "code",
   "execution_count": null,
   "metadata": {},
   "outputs": [],
   "source": [
    "import time\n",
    "\n",
    "def run_email_checker(config):\n",
    "    initialized = False\n",
    "    first_iteration = True\n",
    "    while True:\n",
    "        try:\n",
    "            app.invoke({\"initialized\": initialized}, config=config)\n",
    "            initialized = True\n",
    "        except Exception as e:\n",
    "            print(f\"An error occurred: {e}\")\n",
    "\n",
    "        if first_iteration:\n",
    "            time.sleep(2)\n",
    "            first_iteration = False\n",
    "        else:\n",
    "            time.sleep(15)\n",
    "\n",
    "run_email_checker(config=config)\n"
   ]
  }
 ],
 "metadata": {
  "kernelspec": {
   "display_name": ".venv",
   "language": "python",
   "name": "python3"
  },
  "language_info": {
   "codemirror_mode": {
    "name": "ipython",
    "version": 3
   },
   "file_extension": ".py",
   "mimetype": "text/x-python",
   "name": "python",
   "nbconvert_exporter": "python",
   "pygments_lexer": "ipython3",
   "version": "3.11.0"
  }
 },
 "nbformat": 4,
 "nbformat_minor": 2
}
